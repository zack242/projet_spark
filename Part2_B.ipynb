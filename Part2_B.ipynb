{
 "cells": [
  {
   "attachments": {},
   "cell_type": "markdown",
   "metadata": {},
   "source": [
    "# Spark Streaming - Part 2.B\n",
    "__Authors__ : Ladji Idrissa FOFANA & Zakaria TOZY"
   ]
  },
  {
   "attachments": {},
   "cell_type": "markdown",
   "metadata": {},
   "source": [
    "Spark Streaming application that connects to Part2.A, extracts hashtags, and displays the 10 most popular hashtag.\n",
    "\n",
    "__Run the notebook Part2_A.ipynb first__"
   ]
  },
  {
   "cell_type": "code",
   "execution_count": 1,
   "metadata": {},
   "outputs": [],
   "source": [
    "import findspark\n",
    "\n",
    "import pyspark\n",
    "from pyspark import SparkContext\n",
    "from pyspark.sql import SparkSession,SQLContext\n",
    "from pyspark.streaming import StreamingContext\n",
    "from pyspark.sql.functions import desc\n",
    "import matplotlib.pyplot as plt"
   ]
  },
  {
   "cell_type": "code",
   "execution_count": 2,
   "metadata": {},
   "outputs": [
    {
     "name": "stderr",
     "output_type": "stream",
     "text": [
      "Setting default log level to \"WARN\".\n",
      "To adjust logging level use sc.setLogLevel(newLevel). For SparkR, use setLogLevel(newLevel).\n"
     ]
    },
    {
     "name": "stdout",
     "output_type": "stream",
     "text": [
      "23/01/20 20:35:49 WARN NativeCodeLoader: Unable to load native-hadoop library for your platform... using builtin-java classes where applicable\n",
      "23/01/20 20:35:50 WARN Utils: Service 'SparkUI' could not bind on port 4040. Attempting port 4041.\n"
     ]
    }
   ],
   "source": [
    "#Create a new SparkSession and StreamingContext\n",
    "spark = SparkSession.builder.appName(\"TwitterTrends\").master(\"local[2]\").getOrCreate()\n",
    "ssc = StreamingContext(spark.sparkContext, 10)\n",
    "\n",
    "#Set log level to \"ERROR\" to reduce the amount of log messages\n",
    "spark.sparkContext.setLogLevel(\"ERROR\")\n",
    "\n",
    "#Set checkpoint location and create a new DStream\n",
    "ssc.checkpoint(\"TwitterTrends_checkpoint\")\n",
    "socket_stream = ssc.socketTextStream('localhost', 5554)\n",
    "\n",
    "# Split the lines by newline character to get individual tweets\n",
    "tweets = socket_stream.flatMap(lambda text: text.split(\"\\n\"))\n",
    "tweets = tweets.map(lambda tweet: tweet.lower())\n",
    "\n",
    "# Split each tweet by space character to get individual words and get hashtags\n",
    "words = tweets.flatMap(lambda tweet: tweet.split(\" \"))\n",
    "hashtags = words.filter(lambda word: word.startswith(\"#\"))\n",
    "\n",
    "#Map each hashtag to a tuple of (hashtag, 1) to get paired hashtags\n",
    "paired_hashtags = hashtags.map(lambda word: (word, 1))\n",
    "\n",
    "#Count paired hashtags by window and slide for 10 min = 600 sec\n",
    "counts = paired_hashtags.reduceByKeyAndWindow(lambda a, b: a + b, None, 600, 600)\n",
    "\n",
    "#Filter only the hashtags which are mentioned more than 5 times\n",
    "filtered_hashtags = counts.filter(lambda hashtag_count: hashtag_count[1] > 5)\n",
    "\n",
    "#Sort the filtered hashtags\n",
    "most_popular_hashtags = filtered_hashtags.transform(lambda rdd: rdd.sortBy(lambda x: x[1],ascending=False))\n",
    "most_popular_hashtags.pprint(10)\n",
    "\n",
    "#Plot the top 10 hashtags\n",
    "def process_rdd(rdd):\n",
    "    # Get the top 10 hashtags and their counts\n",
    "    top_10_hashtags = rdd.take(10)\n",
    "    # Extract the hashtags and counts into separate lists\n",
    "    hashtags = [word[0] for word in top_10_hashtags]\n",
    "    counts = [word[1] for word in top_10_hashtags]\n",
    "\n",
    "    # Plot a bar chart of the top 10 hashtags\n",
    "    plt.barh(hashtags, counts)\n",
    "    plt.xlabel('Hashtag')\n",
    "    plt.ylabel('Count')\n",
    "    plt.title('Top 10 Hashtags')\n",
    "    plt.show()\n",
    "\n",
    "most_popular_hashtags.foreachRDD(process_rdd)"
   ]
  },
  {
   "cell_type": "code",
   "execution_count": 3,
   "metadata": {},
   "outputs": [
    {
     "name": "stderr",
     "output_type": "stream",
     "text": [
      "                                                                                \r"
     ]
    },
    {
     "name": "stdout",
     "output_type": "stream",
     "text": [
      "-------------------------------------------\n",
      "Time: 2023-01-20 20:45:50\n",
      "-------------------------------------------\n",
      "('#crypto', 185)\n",
      "('#bitcoin', 67)\n",
      "('#music', 63)\n",
      "('#eth', 41)\n",
      "('#btc', 34)\n",
      "('#ethereum', 28)\n",
      "('#cryptocurrency', 28)\n",
      "('#nft', 26)\n",
      "('#bsc', 25)\n",
      "('#onairnow', 24)\n",
      "...\n",
      "\n"
     ]
    },
    {
     "name": "stderr",
     "output_type": "stream",
     "text": [
      "[Stage 0:>                                                          (0 + 1) / 1]\r"
     ]
    },
    {
     "data": {
      "image/png": "[encoded data removed]",
      "text/plain": [
       "<Figure size 640x480 with 1 Axes>"
      ]
     },
     "metadata": {},
     "output_type": "display_data"
    }
   ],
   "source": [
    "ssc.start() # Start the computation "
   ]
  },
  {
   "cell_type": "code",
   "execution_count": 4,
   "metadata": {
    "scrolled": true
   },
   "outputs": [
    {
     "name": "stdout",
     "output_type": "stream",
     "text": [
      "23/01/20 20:46:13 ERROR ReceiverTracker: Deregistered receiver for stream 0: Stopped by driver\n"
     ]
    },
    {
     "name": "stderr",
     "output_type": "stream",
     "text": [
      "Exception in thread \"receiver-supervisor-future-0\" java.lang.Error: java.lang.InterruptedException: sleep interrupted\n",
      "\tat java.util.concurrent.ThreadPoolExecutor.runWorker(ThreadPoolExecutor.java:1155)\n",
      "\tat java.util.concurrent.ThreadPoolExecutor$Worker.run(ThreadPoolExecutor.java:624)\n",
      "\tat java.lang.Thread.run(Thread.java:750)\n",
      "Caused by: java.lang.InterruptedException: sleep interrupted\n",
      "\tat java.lang.Thread.sleep(Native Method)\n",
      "\tat org.apache.spark.streaming.receiver.ReceiverSupervisor.$anonfun$restartReceiver$1(ReceiverSupervisor.scala:196)\n",
      "\tat scala.runtime.java8.JFunction0$mcV$sp.apply(JFunction0$mcV$sp.java:23)\n",
      "\tat scala.concurrent.Future$.$anonfun$apply$1(Future.scala:659)\n",
      "\tat scala.util.Success.$anonfun$map$1(Try.scala:255)\n",
      "\tat scala.util.Success.map(Try.scala:213)\n",
      "\tat scala.concurrent.Future.$anonfun$map$1(Future.scala:292)\n",
      "\tat scala.concurrent.impl.Promise.liftedTree1$1(Promise.scala:33)\n",
      "\tat scala.concurrent.impl.Promise.$anonfun$transform$1(Promise.scala:33)\n",
      "\tat scala.concurrent.impl.CallbackRunnable.run(Promise.scala:64)\n",
      "\tat java.util.concurrent.ThreadPoolExecutor.runWorker(ThreadPoolExecutor.java:1149)\n",
      "\t... 2 more\n"
     ]
    }
   ],
   "source": [
    "ssc.stop()"
   ]
  }
 ],
 "metadata": {
  "kernelspec": {
   "display_name": "Python 3",
   "language": "python",
   "name": "python3"
  },
  "language_info": {
   "codemirror_mode": {
    "name": "ipython",
    "version": 3
   },
   "file_extension": ".py",
   "mimetype": "text/x-python",
   "name": "python",
   "nbconvert_exporter": "python",
   "pygments_lexer": "ipython3",
   "version": "3.8.9"
  },
  "vscode": {
   "interpreter": {
    "hash": "31f2aee4e71d21fbe5cf8b01ff0e069b9275f58929596ceb00d14d90e3e16cd6"
   }
  }
 },
 "nbformat": 4,
 "nbformat_minor": 2
}
