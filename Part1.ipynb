{
 "cells": [
  {
   "cell_type": "code",
   "execution_count": null,
   "metadata": {},
   "outputs": [],
   "source": [
    "from pyspark import SparkContext\n",
    "from pyspark.sql import Row\n",
    "from pyspark.sql import SparkSession\n",
    "from pyspark.sql import Row\n",
    "from pyspark.sql.functions import col\n",
    "from pyspark.sql.functions import round,avg\n",
    "\n",
    "sc = SparkContext(\"local\", \"Revenue Data Analysis\")\n",
    "spark = SparkSession(sc)"
   ]
  },
  {
   "cell_type": "code",
   "execution_count": 27,
   "metadata": {},
   "outputs": [],
   "source": [
    "rdd = sc.wholeTextFiles(\"input\")\n",
    "rdd = rdd.map(lambda x: (x[0].split(\"/\")[-1], x[1]))\n",
    "rdd = rdd.map(lambda x: (x[0].split(\".\")[0], x[1].split(\"\\n\"))).flatMapValues(lambda x: x)\n",
    "rdd = rdd.map(lambda x: (x[0].split(\"_\")[0],x[0] if x[0].count(\"_\") >  0 else x[0] , x[1].split(\" \")[0], x[1].split(\" \")[1].replace(\"\\r\", \"\")))\n",
    "df = rdd.map(lambda x: Row(city=x[0],id=x[1] ,month=x[2], revenue=x[3])).toDF()\n",
    "df = df.withColumn(\"revenue\", col(\"revenue\").cast(\"int\"))"
   ]
  },
  {
   "cell_type": "code",
   "execution_count": 28,
   "metadata": {},
   "outputs": [
    {
     "name": "stdout",
     "output_type": "stream",
     "text": [
      "root\n",
      " |-- city: string (nullable = true)\n",
      " |-- id: string (nullable = true)\n",
      " |-- month: string (nullable = true)\n",
      " |-- revenue: integer (nullable = true)\n",
      "\n",
      "+----------+------------+-----+-------+\n",
      "|      city|          id|month|revenue|\n",
      "+----------+------------+-----+-------+\n",
      "|    troyes|      troyes|  JAN|     21|\n",
      "|    troyes|      troyes|  FEB|     21|\n",
      "|    troyes|      troyes|  MAR|     11|\n",
      "|    troyes|      troyes|  APR|     17|\n",
      "|    troyes|      troyes|  MAY|     15|\n",
      "|    troyes|      troyes|  JUN|     25|\n",
      "|    troyes|      troyes|  JUL|     11|\n",
      "|    troyes|      troyes|  AUG|     22|\n",
      "|    troyes|      troyes|  SEP|     21|\n",
      "|    troyes|      troyes|  OCT|     28|\n",
      "|    troyes|      troyes|  NOV|     11|\n",
      "|    troyes|      troyes|  DEC|     11|\n",
      "|marseilles|marseilles_2|  JAN|     11|\n",
      "|marseilles|marseilles_2|  FEB|     11|\n",
      "|marseilles|marseilles_2|  MAR|     11|\n",
      "|marseilles|marseilles_2|  APR|     17|\n",
      "|marseilles|marseilles_2|  MAY|     12|\n",
      "|marseilles|marseilles_2|  JUN|     25|\n",
      "|marseilles|marseilles_2|  JUL|     21|\n",
      "|marseilles|marseilles_2|  AUG|     22|\n",
      "+----------+------------+-----+-------+\n",
      "only showing top 20 rows\n",
      "\n"
     ]
    }
   ],
   "source": [
    "df.printSchema()\n",
    "df.show()"
   ]
  },
  {
   "attachments": {},
   "cell_type": "markdown",
   "metadata": {},
   "source": [
    "- Average monthly income of the shop in France"
   ]
  },
  {
   "cell_type": "code",
   "execution_count": 29,
   "metadata": {},
   "outputs": [
    {
     "name": "stdout",
     "output_type": "stream",
     "text": [
      "+-----------------+\n",
      "|     avg(revenue)|\n",
      "+-----------------+\n",
      "|23.19871794871795|\n",
      "+-----------------+\n",
      "\n"
     ]
    }
   ],
   "source": [
    "df.agg({\"revenue\":\"avg\"}).show()"
   ]
  },
  {
   "attachments": {},
   "cell_type": "markdown",
   "metadata": {},
   "source": [
    "- Average monthly income of the shop in each city"
   ]
  },
  {
   "cell_type": "code",
   "execution_count": 49,
   "metadata": {},
   "outputs": [
    {
     "name": "stdout",
     "output_type": "stream",
     "text": [
      "+----------+-----------+\n",
      "|      city|avg_revenue|\n",
      "+----------+-----------+\n",
      "|    nantes|      17.25|\n",
      "|    troyes|      17.83|\n",
      "|     paris|      43.56|\n",
      "|      lyon|      16.08|\n",
      "|     anger|      13.83|\n",
      "|marseilles|      21.46|\n",
      "|      nice|      16.92|\n",
      "|    orlean|      16.33|\n",
      "|    rennes|       15.0|\n",
      "|  toulouse|      14.75|\n",
      "+----------+-----------+\n",
      "\n"
     ]
    }
   ],
   "source": [
    "df.groupBy(\"city\").agg(round(avg(\"revenue\"),2).alias(\"avg_revenue\")).show()"
   ]
  },
  {
   "attachments": {},
   "cell_type": "markdown",
   "metadata": {},
   "source": [
    "- Total revenue per city per year"
   ]
  },
  {
   "cell_type": "code",
   "execution_count": 31,
   "metadata": {},
   "outputs": [
    {
     "name": "stdout",
     "output_type": "stream",
     "text": [
      "+----------+------------+\n",
      "|      city|sum(revenue)|\n",
      "+----------+------------+\n",
      "|     paris|        1568|\n",
      "|marseilles|         515|\n",
      "|    troyes|         214|\n",
      "|    nantes|         207|\n",
      "|      nice|         203|\n",
      "|    orlean|         196|\n",
      "|      lyon|         193|\n",
      "|    rennes|         180|\n",
      "|  toulouse|         177|\n",
      "|     anger|         166|\n",
      "+----------+------------+\n",
      "\n"
     ]
    }
   ],
   "source": [
    "df.groupBy(\"city\").agg({\"revenue\":\"sum\"}).orderBy(\"sum(revenue)\", ascending=False).show()"
   ]
  },
  {
   "attachments": {},
   "cell_type": "markdown",
   "metadata": {},
   "source": [
    "- Total revenue per store per year"
   ]
  },
  {
   "cell_type": "code",
   "execution_count": 32,
   "metadata": {},
   "outputs": [
    {
     "name": "stdout",
     "output_type": "stream",
     "text": [
      "+------------+------------+\n",
      "|          id|sum(revenue)|\n",
      "+------------+------------+\n",
      "|     paris_2|         642|\n",
      "|     paris_1|         596|\n",
      "|     paris_3|         330|\n",
      "|marseilles_1|         284|\n",
      "|marseilles_2|         231|\n",
      "|      troyes|         214|\n",
      "|      nantes|         207|\n",
      "|        nice|         203|\n",
      "|      orlean|         196|\n",
      "|        lyon|         193|\n",
      "|      rennes|         180|\n",
      "|    toulouse|         177|\n",
      "|       anger|         166|\n",
      "+------------+------------+\n",
      "\n"
     ]
    }
   ],
   "source": [
    "df.groupBy(\"id\").agg({\"revenue\":\"sum\"}).orderBy(\"sum(revenue)\", ascending=False).show()"
   ]
  },
  {
   "attachments": {},
   "cell_type": "markdown",
   "metadata": {},
   "source": [
    "- The store that achieves the best performance in each month"
   ]
  },
  {
   "cell_type": "code",
   "execution_count": 118,
   "metadata": {},
   "outputs": [
    {
     "name": "stdout",
     "output_type": "stream",
     "text": [
      "+-----+-------+------------+\n",
      "|month|     id|max(revenue)|\n",
      "+-----+-------+------------+\n",
      "|  JUN|paris_2|          85|\n",
      "|  MAY|paris_2|          72|\n",
      "|  DEC|paris_1|          71|\n",
      "|  OCT|paris_1|          68|\n",
      "|  NOV|paris_2|          64|\n",
      "|  SEP|paris_2|          63|\n",
      "|  JUL|paris_1|          61|\n",
      "|  APR|paris_1|          57|\n",
      "|  JAN|paris_1|          51|\n",
      "|  AUG|paris_2|          45|\n",
      "|  MAR|paris_2|          44|\n",
      "|  FEB|paris_2|          42|\n",
      "+-----+-------+------------+\n",
      "\n"
     ]
    }
   ],
   "source": [
    "max_revenue_by_months = df.groupBy(\"month\").agg({\"revenue\":\"max\"})\n",
    "best_store_df = df.join(max_revenue_by_months, (df[\"month\"] == max_revenue_by_months[\"month\"]) & (df[\"revenue\"] == max_revenue_by_months[\"max(revenue)\"]),\"inner\").drop(df[\"month\"]).drop(df[\"revenue\"])\n",
    "best_store_df.select('month','id','max(revenue)').orderBy(\"max(revenue)\",ascending=False).show()"
   ]
  }
 ],
 "metadata": {
  "kernelspec": {
   "display_name": "Python 3",
   "language": "python",
   "name": "python3"
  },
  "language_info": {
   "codemirror_mode": {
    "name": "ipython",
    "version": 3
   },
   "file_extension": ".py",
   "mimetype": "text/x-python",
   "name": "python",
   "nbconvert_exporter": "python",
   "pygments_lexer": "ipython3",
   "version": "3.8.9"
  },
  "orig_nbformat": 4,
  "vscode": {
   "interpreter": {
    "hash": "31f2aee4e71d21fbe5cf8b01ff0e069b9275f58929596ceb00d14d90e3e16cd6"
   }
  }
 },
 "nbformat": 4,
 "nbformat_minor": 2
}
