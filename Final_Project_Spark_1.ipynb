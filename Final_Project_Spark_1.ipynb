{
 "cells": [
  {
   "cell_type": "code",
   "execution_count": 1,
   "metadata": {},
   "outputs": [],
   "source": [
    "import findspark\n",
    "# TO use init without passing a parameter, you have to define the env. variable SPARK_HOME \n",
    "findspark.init()\n",
    "import pyspark"
   ]
  },
  {
   "cell_type": "code",
   "execution_count": 2,
   "metadata": {},
   "outputs": [],
   "source": [
    "from pyspark.sql import SparkSession\n",
    "from pyspark.sql.types import StructType, StructField, StringType, IntegerType\n",
    "from pyspark import SparkContext\n",
    "spark = SparkSession.builder.appName(\"Final-Project\").getOrCreate()"
   ]
  },
  {
   "cell_type": "code",
   "execution_count": 3,
   "metadata": {},
   "outputs": [
    {
     "name": "stdout",
     "output_type": "stream",
     "text": [
      "root\n",
      " |-- Month: string (nullable = true)\n",
      " |-- Income: integer (nullable = true)\n",
      " |-- city: string (nullable = true)\n",
      " |-- Num_of_shop: string (nullable = true)\n",
      " |-- Id_shop: string (nullable = true)\n",
      "\n",
      "+-----+------+-----+-----------+-------+\n",
      "|Month|Income| city|Num_of_shop|Id_shop|\n",
      "+-----+------+-----+-----------+-------+\n",
      "|  JAN|    13|anger|          1|  anger|\n",
      "|  FEB|    12|anger|          1|  anger|\n",
      "|  MAR|    14|anger|          1|  anger|\n",
      "|  APR|    15|anger|          1|  anger|\n",
      "|  MAY|    12|anger|          1|  anger|\n",
      "|  JUN|    15|anger|          1|  anger|\n",
      "|  JUL|    19|anger|          1|  anger|\n",
      "|  AUG|    15|anger|          1|  anger|\n",
      "|  SEP|    13|anger|          1|  anger|\n",
      "|  OCT|     8|anger|          1|  anger|\n",
      "|  NOV|    14|anger|          1|  anger|\n",
      "|  DEC|    16|anger|          1|  anger|\n",
      "|  JAN|    13| lyon|          1|   lyon|\n",
      "|  FEB|    12| lyon|          1|   lyon|\n",
      "|  MAR|    14| lyon|          1|   lyon|\n",
      "|  APR|    15| lyon|          1|   lyon|\n",
      "|  MAY|    12| lyon|          1|   lyon|\n",
      "|  JUN|    15| lyon|          1|   lyon|\n",
      "|  JUL|    19| lyon|          1|   lyon|\n",
      "|  AUG|    25| lyon|          1|   lyon|\n",
      "+-----+------+-----+-----------+-------+\n",
      "only showing top 20 rows\n",
      "\n"
     ]
    }
   ],
   "source": [
    "import re\n",
    "from pyspark.sql.functions import lit\n",
    "df2 = spark.sparkContext.wholeTextFiles('input/')\n",
    "df2 = df2.collect()\n",
    "cities = {}\n",
    "schema = StructType([\n",
    "  StructField('Month', StringType(), True),\n",
    "  StructField('Income', StringType(), True),\n",
    "  StructField('city', StringType(), True),\n",
    "  StructField('Num_of_shop', StringType(), True),\n",
    "  StructField('Id_shop', StringType(), True)\n",
    "  ])\n",
    "final_df = spark.createDataFrame(spark.sparkContext.emptyRDD(), schema)\n",
    "\n",
    "for row in df2:\n",
    "    city = re.search(r\"(?<=input/).*?(?=.txt)\", row[0]).group(0)\n",
    "    id = re.search(r\"(?<=input/).*?(?=.txt)\", row[0]).group(0)\n",
    "    if re.search(r\".*?(?=_)\", city):\n",
    "        city = re.search(r\".*?(?=_)\", city).group(0)\n",
    "    if city in cities.keys():\n",
    "        cities[city] += 1\n",
    "    else:\n",
    "        cities[city] = 1\n",
    "    tmp = spark.sparkContext.textFile(row[0])\n",
    "    df = tmp.map(lambda k: k.split(\" \"))\n",
    "    df = df.toDF()\n",
    "    df = df.withColumnRenamed(\"_1\", \"Month\").withColumnRenamed(\"_2\", \"Income\")\n",
    "    df = df.withColumn(\"city\", lit(city))\n",
    "    df = df.withColumn(\"Num_of_shop\", lit(cities[city]))\n",
    "    df = df.withColumn(\"Id_shop\", lit(id))\n",
    "    final_df = final_df.union(df)\n",
    "final_df = final_df.withColumn(\"Income\", final_df[\"Income\"].cast(IntegerType()))   \n",
    "final_df.printSchema()\n",
    "final_df.show()"
   ]
  },
  {
   "cell_type": "code",
   "execution_count": 4,
   "metadata": {},
   "outputs": [
    {
     "name": "stdout",
     "output_type": "stream",
     "text": [
      "+-----------------+\n",
      "|      avg(Income)|\n",
      "+-----------------+\n",
      "|23.19871794871795|\n",
      "+-----------------+\n",
      "\n"
     ]
    }
   ],
   "source": [
    "# Average monthly income of the shop in France\n",
    "\n",
    "final_df.agg({\"Income\":\"avg\"}).show()"
   ]
  },
  {
   "cell_type": "code",
   "execution_count": 5,
   "metadata": {},
   "outputs": [
    {
     "name": "stdout",
     "output_type": "stream",
     "text": [
      "+----------+------------------+\n",
      "|      city|       avg(Income)|\n",
      "+----------+------------------+\n",
      "|     anger|13.833333333333334|\n",
      "|      lyon|16.083333333333332|\n",
      "|marseilles|21.458333333333332|\n",
      "|    nantes|             17.25|\n",
      "|      nice|16.916666666666668|\n",
      "|    orlean|16.333333333333332|\n",
      "|     paris| 43.55555555555556|\n",
      "|    rennes|              15.0|\n",
      "|  toulouse|             14.75|\n",
      "|    troyes|17.833333333333332|\n",
      "+----------+------------------+\n",
      "\n"
     ]
    }
   ],
   "source": [
    "# Average monthly income of the shop in each city\n",
    "\n",
    "final_df.groupby('city').agg({\"Income\":\"avg\"}).orderBy('city').show()"
   ]
  },
  {
   "cell_type": "code",
   "execution_count": 6,
   "metadata": {},
   "outputs": [
    {
     "name": "stdout",
     "output_type": "stream",
     "text": [
      "+----------+-----------+\n",
      "|      city|sum(Income)|\n",
      "+----------+-----------+\n",
      "|     anger|        166|\n",
      "|      lyon|        193|\n",
      "|marseilles|        515|\n",
      "|    nantes|        207|\n",
      "|      nice|        203|\n",
      "|    orlean|        196|\n",
      "|     paris|       1568|\n",
      "|    rennes|        180|\n",
      "|  toulouse|        177|\n",
      "|    troyes|        214|\n",
      "+----------+-----------+\n",
      "\n"
     ]
    }
   ],
   "source": [
    "# Total revenue per city per year\n",
    "\n",
    "final_df.groupby('city').agg({\"Income\":\"sum\"}).orderBy(\"city\").show()"
   ]
  },
  {
   "cell_type": "code",
   "execution_count": 7,
   "metadata": {},
   "outputs": [
    {
     "name": "stdout",
     "output_type": "stream",
     "text": [
      "+------------+-----------+\n",
      "|     Id_shop|sum(Income)|\n",
      "+------------+-----------+\n",
      "|       anger|        166|\n",
      "|        lyon|        193|\n",
      "|marseilles_1|        284|\n",
      "|marseilles_2|        231|\n",
      "|      nantes|        207|\n",
      "|        nice|        203|\n",
      "|      orlean|        196|\n",
      "|     paris_1|        596|\n",
      "|     paris_2|        642|\n",
      "|     paris_3|        330|\n",
      "|      rennes|        180|\n",
      "|    toulouse|        177|\n",
      "|      troyes|        214|\n",
      "+------------+-----------+\n",
      "\n"
     ]
    }
   ],
   "source": [
    "# Total revenue per store per year\n",
    "\n",
    "final_df.groupby('Id_shop').agg({\"Income\":\"sum\"}).orderBy(\"Id_shop\").show()"
   ]
  },
  {
   "cell_type": "code",
   "execution_count": 8,
   "metadata": {},
   "outputs": [],
   "source": [
    "# The store that achieves the best performance in each month\n",
    "df = final_df.groupby('Month').agg({\"Income\":\"max\"}).withColumnRenamed(\"max(Income)\", \"Max\")"
   ]
  },
  {
   "cell_type": "code",
   "execution_count": 9,
   "metadata": {},
   "outputs": [
    {
     "name": "stdout",
     "output_type": "stream",
     "text": [
      "+-----+------+-----+-----------+-------+\n",
      "|Month|Income| city|Num_of_shop|Id_shop|\n",
      "+-----+------+-----+-----------+-------+\n",
      "|  APR|    57|paris|          1|paris_1|\n",
      "|  JAN|    51|paris|          1|paris_1|\n",
      "|  OCT|    68|paris|          1|paris_1|\n",
      "|  JUL|    61|paris|          1|paris_1|\n",
      "|  DEC|    71|paris|          1|paris_1|\n",
      "|  MAY|    72|paris|          2|paris_2|\n",
      "|  SEP|    63|paris|          2|paris_2|\n",
      "|  JUN|    85|paris|          2|paris_2|\n",
      "|  NOV|    64|paris|          2|paris_2|\n",
      "|  FEB|    42|paris|          2|paris_2|\n",
      "|  MAR|    44|paris|          2|paris_2|\n",
      "|  AUG|    45|paris|          2|paris_2|\n",
      "+-----+------+-----+-----------+-------+\n",
      "\n",
      "+-----+------+-------+\n",
      "|Month|Income|Id_shop|\n",
      "+-----+------+-------+\n",
      "|  APR|    57|paris_1|\n",
      "|  JAN|    51|paris_1|\n",
      "|  OCT|    68|paris_1|\n",
      "|  JUL|    61|paris_1|\n",
      "|  DEC|    71|paris_1|\n",
      "|  MAY|    72|paris_2|\n",
      "|  SEP|    63|paris_2|\n",
      "|  JUN|    85|paris_2|\n",
      "|  NOV|    64|paris_2|\n",
      "|  FEB|    42|paris_2|\n",
      "|  MAR|    44|paris_2|\n",
      "|  AUG|    45|paris_2|\n",
      "+-----+------+-------+\n",
      "\n"
     ]
    }
   ],
   "source": [
    "final = final_df.join(df, (final_df.Income == df.Max) & (final_df.Month == df.Month), how='leftsemi')\n",
    "final.show()\n",
    "final.select('Month', 'Income', 'Id_shop').show()"
   ]
  }
 ],
 "metadata": {
  "kernelspec": {
   "display_name": "Python 3",
   "language": "python",
   "name": "python3"
  },
  "language_info": {
   "codemirror_mode": {
    "name": "ipython",
    "version": 3
   },
   "file_extension": ".py",
   "mimetype": "text/x-python",
   "name": "python",
   "nbconvert_exporter": "python",
   "pygments_lexer": "ipython3",
   "version": "3.8.5"
  }
 },
 "nbformat": 4,
 "nbformat_minor": 4
}
